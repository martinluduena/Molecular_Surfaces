{
 "cells": [
  {
   "cell_type": "code",
   "execution_count": 8,
   "metadata": {},
   "outputs": [],
   "source": [
    "#!pip install ase\n",
    "from ase import Atoms\n",
    "from ase.build import add_adsorbate\n",
    "from ase.lattice.surface import hcp0001,fcc111\n",
    "from ase.io import write,read\n",
    "from ase.visualize import view"
   ]
  },
  {
   "cell_type": "markdown",
   "metadata": {},
   "source": [
    "### This is the molecule to be adsorbed "
   ]
  },
  {
   "cell_type": "code",
   "execution_count": 2,
   "metadata": {},
   "outputs": [],
   "source": [
    "name = 'SO2C3H6'\n",
    "xyz =  [( 0.000 ,  0.000,  0.000),    \n",
    "        (-0.002,  -0.445,  5.147),    \n",
    "        (-0.005,   1.657,  4.292),    \n",
    "        ( 0.005,  -0.216,  2.767),    \n",
    "        ( 0.016,   0.799,  1.633),   \n",
    "        (-0.008,   0.444,  4.125),    \n",
    "        (-0.888,  -0.848,  2.699),    \n",
    "        ( 0.897,  -0.851,  2.715),    \n",
    "        ( 0.906,   1.434,  1.696),    \n",
    "        (-0.858,   1.455,  1.697),    \n",
    "        ( 1.164,  -0.653,  0.136),    \n",
    "        (-0.000,  -0.000,  6.021)]  "
   ]
  },
  {
   "cell_type": "markdown",
   "metadata": {},
   "source": [
    "### Define a small cell  (3,4,5)"
   ]
  },
  {
   "cell_type": "code",
   "execution_count": 3,
   "metadata": {},
   "outputs": [],
   "source": [
    "# A simple Au(111) surface. Surface element, size and vacuum are specified in the parentheses\n",
    "# Define slab de Au. Use orthogonal=True to get an orthogonal unit cell - works only for size=(i,j,k) with j even.\n",
    "\n",
    "#Define slab\n",
    "slab = fcc111('Au', size=(3,4,3),orthogonal=True, vacuum=10)\n",
    "\n",
    "#Define adsorbate\n",
    "molecule = Atoms(name,xyz)\n",
    "\n",
    "#Add adsorbate to the surface\n",
    "add_adsorbate(slab, molecule, 1.7, \"ontop\",offset=None)\n",
    "add_adsorbate(slab, molecule, 1.7, \"ontop\",offset=[1,1])\n",
    "add_adsorbate(slab, molecule, 1.7, \"ontop\",offset=[-1,2])\n",
    "add_adsorbate(slab, molecule, 1.7, \"ontop\",offset=[0,3])\n",
    "\n",
    "write('Aufcc11_Mercapto_ontop.xyz', slab)\n",
    "#view(slab, repeat=(2, 2, 1))"
   ]
  },
  {
   "cell_type": "markdown",
   "metadata": {},
   "source": [
    "### Repeat the cell as many times as necessary"
   ]
  },
  {
   "cell_type": "code",
   "execution_count": 6,
   "metadata": {},
   "outputs": [],
   "source": [
    "nx , ny , nz = 2, 3, 1 \n",
    "enlarged_slab = slab.repeat((nx,ny,nz))\n",
    "write('Aufcc111_Mercapto_ontop_2x2x1.xyz', enlarged_slab)"
   ]
  },
  {
   "cell_type": "code",
   "execution_count": 7,
   "metadata": {},
   "outputs": [],
   "source": [
    "view(enlarged_slab)"
   ]
  }
 ],
 "metadata": {
  "kernelspec": {
   "display_name": "Python 3",
   "language": "python",
   "name": "python3"
  },
  "language_info": {
   "codemirror_mode": {
    "name": "ipython",
    "version": 3
   },
   "file_extension": ".py",
   "mimetype": "text/x-python",
   "name": "python",
   "nbconvert_exporter": "python",
   "pygments_lexer": "ipython3",
   "version": "3.7.0"
  }
 },
 "nbformat": 4,
 "nbformat_minor": 2
}
