{
 "cells": [
  {
   "cell_type": "markdown",
   "metadata": {},
   "source": [
    "##### https://sites.lsa.umich.edu/zimmerman-lab/tutorial/surface-growing-string-method/surface-setup/\n",
    "\n",
    "\n",
    "###### http://chemeng444.github.io/ASE/Adsorption/\n",
    "\n",
    "###### https://wiki.fysik.dtu.dk/ase/ase/thermochemistry/thermochemistry.html"
   ]
  },
  {
   "cell_type": "code",
   "execution_count": null,
   "metadata": {},
   "outputs": [],
   "source": [
    "# !pip install ase  : Para la primera vez que vayas a correr el programita, sacá el # así se instala el paquete \"ase\". \n",
    "                    # Luego ya queda instalado, y si quieres podes borrar toda la linea completa."
   ]
  },
  {
   "cell_type": "code",
   "execution_count": 10,
   "metadata": {},
   "outputs": [],
   "source": [
    "from ase import Atoms\n",
    "from ase.build import add_adsorbate\n",
    "from ase.lattice.surface import hcp0001,fcc111\n",
    "from ase.io import write,read\n",
    "from ase.visualize import view"
   ]
  },
  {
   "cell_type": "code",
   "execution_count": 58,
   "metadata": {},
   "outputs": [],
   "source": [
    "# A simple Au(111) surface. Surface element, size and vacuum are specified in the parentheses\n",
    "# Define slab de Au Use orthogonal=True to get an orthogonal unit cell - works only for size=(i,j,k) with j even.\n",
    "slab = fcc111('Au', size=(3,2,3),orthogonal=True, vacuum=10)\n",
    "\n",
    "# Define adsorbate\n",
    "molecule = Atoms('SCH3', [(0., 0., 0.), (0., 0., 1.16),(0.5,0.5,1.56),(0.5,-0.5,1.56),(-0.70712,0.,1.56)])\n",
    "\n",
    "# Add adsorbate to the surface\n",
    "add_adsorbate(slab, molecule, 1.7, \"ontop\",offset=None)\n",
    "add_adsorbate(slab, molecule, 1.7, \"ontop\",offset=[1,1])\n",
    "\n",
    "# Write output\n",
    "write('AuSCH3_Orthogonal_ontop_3x2.xyz', slab)\n",
    "\n",
    "view(slab)"
   ]
  },
  {
   "cell_type": "code",
   "execution_count": 52,
   "metadata": {},
   "outputs": [],
   "source": [
    "# This one is a bigger slab, showing a complete supercell sqrt(3)xR30.\n",
    "# Adsorbate are ontop\n",
    "\n",
    "#Define slab\n",
    "slab = fcc111('Au', size=(3,4,3),orthogonal=True, vacuum=10)\n",
    "\n",
    "#Define adsorbate\n",
    "molecule = Atoms('SCH3', [(0., 0., 0.), (0., 0., 1.16),(0.5,0.5,1.56),(0.5,-0.5,1.56),(-0.70712,0.,1.56)])\n",
    "\n",
    "#Add adsorbate to the surface\n",
    "add_adsorbate(slab, molecule, 1.7, \"ontop\",offset=None)\n",
    "add_adsorbate(slab, molecule, 1.7, \"ontop\",offset=[1,1])\n",
    "add_adsorbate(slab, molecule, 1.7, \"ontop\",offset=[-1,2])\n",
    "add_adsorbate(slab, molecule, 1.7, \"ontop\",offset=[0,3])\n",
    "\n",
    "write('AuSCH3_Orthogonal_ontop.xyz', slab)"
   ]
  },
  {
   "cell_type": "code",
   "execution_count": 54,
   "metadata": {},
   "outputs": [],
   "source": [
    "# This one is a bigger slab, showing a complete supercell sqrt(3)xR30.\n",
    "# Adsorbate are on bridge\n",
    "\n",
    "\n",
    "#define slab\n",
    "slab = fcc111('Au', size=(3,4,3),orthogonal=True, vacuum=10)\n",
    "#define adsorbate\n",
    "molecule = Atoms('SCH3', [(0., 0., 0.), (0., 0., 1.16),(0.5,0.5,1.56),(0.5,-0.5,1.56),(-0.70712,0.,1.56)])\n",
    "#add adsorbate to the surface\n",
    "add_adsorbate(slab, molecule, 1.7, \"bridge\",offset=None)\n",
    "add_adsorbate(slab, molecule, 1.7, \"bridge\",offset=[1,1])\n",
    "add_adsorbate(slab, molecule, 1.7, \"bridge\",offset=[-1,2])\n",
    "add_adsorbate(slab, molecule, 1.7, \"bridge\",offset=[0,3])\n",
    "#write output\n",
    "write('AuSCH3_Orthogonal_bridge.xyz', slab)"
   ]
  },
  {
   "cell_type": "code",
   "execution_count": 48,
   "metadata": {},
   "outputs": [],
   "source": [
    "# This one is a bigger slab, showing a complete supercell sqrt(3)xR30.\n",
    "# Adsorbate are on hollow hcp\n",
    "\n",
    "#define slab\n",
    "slab = fcc111('Au', size=(3,4,3),orthogonal=True, vacuum=10)\n",
    "#define adsorbate\n",
    "molecule = Atoms('SCH3', [(0., 0., 0.), (0., 0., 1.16),(0.5,0.5,1.56),(0.5,-0.5,1.56),(-0.70712,0.,1.56)])\n",
    "#add adsorbate to the surface\n",
    "add_adsorbate(slab, molecule, 1.7, \"hcp\",offset=None)\n",
    "add_adsorbate(slab, molecule, 1.7, \"hcp\",offset=[1,1])\n",
    "add_adsorbate(slab, molecule, 1.7, \"hcp\",offset=[-1,2])\n",
    "add_adsorbate(slab, molecule, 1.7, \"hcp\",offset=[0,3])\n",
    "#write output\n",
    "write('AuSCH3_Orthogonal_hcp.xyz', slab)"
   ]
  },
  {
   "cell_type": "code",
   "execution_count": 50,
   "metadata": {},
   "outputs": [],
   "source": [
    "# This one is a bigger slab, showing a complete supercell sqrt(3)xR30.\n",
    "# Adsorbate are on hollow fcc\n",
    "\n",
    "#define slab\n",
    "slab = fcc111('Au', size=(3,4,3),orthogonal=True, vacuum=10)\n",
    "#define adsorbate\n",
    "molecule = Atoms('SCH3', [(0., 0., 0.), (0., 0., 1.16),(0.5,0.5,1.56),(0.5,-0.5,1.56),(-0.70712,0.,1.56)])\n",
    "#add adsorbate to the surface\n",
    "add_adsorbate(slab, molecule, 1.7, \"fcc\",offset=None)\n",
    "add_adsorbate(slab, molecule, 1.7, \"fcc\",offset=[1,1])\n",
    "add_adsorbate(slab, molecule, 1.7, \"fcc\",offset=[-1,2])\n",
    "add_adsorbate(slab, molecule, 1.7, \"fcc\",offset=[0,3])\n",
    "#write output\n",
    "write('AuSCH3_Orthogonal_hcp.xyz', slab)\n",
    "\n",
    "view(slab)"
   ]
  },
  {
   "cell_type": "code",
   "execution_count": 4,
   "metadata": {},
   "outputs": [],
   "source": [
    "#A simple Ru(0001) surface. Just in case you would practicing with other structures. \n",
    "\n",
    "#define slab\n",
    "slab = hcp0001('Ru', size=(5,5,4), vacuum=10)\n",
    "#define adsorbate\n",
    "molecule = Atoms('SCH3', [(0., 0., 0.), (0., 0., 1.16),(0.5,0.5,1.56),(0.5,-0.5,1.56),(-0.70712,0.,1.56)])\n",
    "#add adsorbate to the surface\n",
    "add_adsorbate(slab, molecule, 1.7, \"hcp\")\n",
    "\n",
    "#write output\n",
    "write('outPut.xyz', slab)"
   ]
  },
  {
   "cell_type": "code",
   "execution_count": 8,
   "metadata": {},
   "outputs": [],
   "source": [
    "#A simple Ru(0001) surface. Surface element, size and \n",
    "#vacuum are specified in the parentheses\n",
    "\n",
    "#define slab\n",
    "slab = hcp0001('Ru', size=(2,2,2),orthogonal=True, vacuum=10)\n",
    "#define adsorbate\n",
    "molecule = Atoms('SCH3', [(0., 0., 0.), (0., 0., 1.16),(0.5,0.5,1.56),(0.5,-0.5,1.56),(-0.70712,0.,1.56)])\n",
    "#add adsorbate to the surface\n",
    "add_adsorbate(slab, molecule, 1.7, \"hcp\",offset=None)\n",
    "add_adsorbate(slab, molecule, 1.7, \"hcp\",offset=[1,0])\n",
    "\n",
    "write('outPut_Orthogonal.xyz', slab)"
   ]
  }
 ],
 "metadata": {
  "kernelspec": {
   "display_name": "Python 3",
   "language": "python",
   "name": "python3"
  },
  "language_info": {
   "codemirror_mode": {
    "name": "ipython",
    "version": 3
   },
   "file_extension": ".py",
   "mimetype": "text/x-python",
   "name": "python",
   "nbconvert_exporter": "python",
   "pygments_lexer": "ipython3",
   "version": "3.7.0"
  }
 },
 "nbformat": 4,
 "nbformat_minor": 2
}
